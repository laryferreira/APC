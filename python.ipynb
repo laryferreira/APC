{
  "nbformat": 4,
  "nbformat_minor": 0,
  "metadata": {
    "colab": {
      "provenance": [],
      "authorship_tag": "ABX9TyPJGHlkjPJJVag6CE+P5zIe",
      "include_colab_link": true
    },
    "kernelspec": {
      "name": "python3",
      "display_name": "Python 3"
    },
    "language_info": {
      "name": "python"
    }
  },
  "cells": [
    {
      "cell_type": "markdown",
      "metadata": {
        "id": "view-in-github",
        "colab_type": "text"
      },
      "source": [
        "<a href=\"https://colab.research.google.com/github/laryferreira/apc_unb/blob/main/python.ipynb\" target=\"_parent\"><img src=\"https://colab.research.google.com/assets/colab-badge.svg\" alt=\"Open In Colab\"/></a>"
      ]
    },
    {
      "cell_type": "markdown",
      "source": [
        "**Python theory and exercise study**"
      ],
      "metadata": {
        "id": "cfM-PqQbZY6i"
      }
    },
    {
      "cell_type": "markdown",
      "source": [
        "1002 - Beecrowd - Circle area"
      ],
      "metadata": {
        "id": "qOFrdb_QZt3O"
      }
    },
    {
      "cell_type": "code",
      "execution_count": 6,
      "metadata": {
        "colab": {
          "base_uri": "https://localhost:8080/"
        },
        "id": "DhDNFqAdY6ww",
        "outputId": "ffdebd9d-e4d3-40fe-f4f5-21c47cb40ed4"
      },
      "outputs": [
        {
          "output_type": "stream",
          "name": "stdout",
          "text": [
            "3\n",
            "A=28.2743\n"
          ]
        }
      ],
      "source": [
        "r = float(input())\n",
        "area = (r **2)*3.14159\n",
        "print(\"A=%.4F\" % area)"
      ]
    },
    {
      "cell_type": "markdown",
      "source": [
        "Float() is a method that returns a floating-point number for a provided number or string.\n",
        "\n",
        "Float() returns the value based on the argument or parameter value that is being passed to it. If no value or blank parameter is passed, it will return the values 0.0 as the floating-point output."
      ],
      "metadata": {
        "id": "Xf0s-L0eaima"
      }
    }
  ]
}