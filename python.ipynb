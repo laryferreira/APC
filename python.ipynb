{
  "nbformat": 4,
  "nbformat_minor": 0,
  "metadata": {
    "colab": {
      "provenance": [],
      "authorship_tag": "ABX9TyOK64PuTdMXmY5ElD9dN4Jr",
      "include_colab_link": true
    },
    "kernelspec": {
      "name": "python3",
      "display_name": "Python 3"
    },
    "language_info": {
      "name": "python"
    }
  },
  "cells": [
    {
      "cell_type": "markdown",
      "metadata": {
        "id": "view-in-github",
        "colab_type": "text"
      },
      "source": [
        "<a href=\"https://colab.research.google.com/github/laryferreira/APC/blob/main/python.ipynb\" target=\"_parent\"><img src=\"https://colab.research.google.com/assets/colab-badge.svg\" alt=\"Open In Colab\"/></a>"
      ]
    },
    {
      "cell_type": "markdown",
      "source": [
        "#**My Python solution book / Meu livro de soluções em Python**\n"
      ],
      "metadata": {
        "id": "cfM-PqQbZY6i"
      }
    },
    {
      "cell_type": "markdown",
      "source": [
        "🇧🇷\n",
        "\n",
        "Olá, seja bem vindo(a) ao meu livro de problemas comentados em Python!\n",
        "\n",
        "Esse livro serve de referência para mim mesma, quando precisar solucionar problemas similares e relembrar alguns tópicos.\n",
        "\n",
        "Se você é calouro(a) ou iniciante na linguagem Python, espero que esse livro te auxilie a entender melhor como abordar os problemas propostos.\n",
        "\n",
        "Como fonte, usarei alguns dos conceitos utilizados nas aulas da trilha Python e orientação a objetos, da Alura e exemplos do site W3school. Em breve, espero trazer o curso HarvardCS50 para cá também!\n",
        "\n",
        "Aproveite!\n",
        "\n",
        "🇺🇸\n",
        "\n",
        "Hello, welcome to my book of problems in Python!\n",
        "\n",
        "This book serves as a reference for myself when I need to solve similar problems and remember some topics.\n",
        "\n",
        "If you are a freshman or beginner in the Python language, I hope this book will help you better understand how to approach the proposed problems.\n",
        "\n",
        "As a source, I will use some of the concepts used in the lessons of the Python and object orientation trail, from Alura and examples from the W3school website. Soon, I hope to bring the HarvardC5S0 course here too!\n",
        "\n"
      ],
      "metadata": {
        "id": "_wdbZXjL7oWB"
      }
    },
    {
      "cell_type": "markdown",
      "source": [
        "##**Variáveis, expressões e instruções / Variables, Expressions, and Instructions**"
      ],
      "metadata": {
        "id": "dvZohgiz_fjd"
      }
    },
    {
      "cell_type": "markdown",
      "source": [
        "Na primeira semana em que realmente colocamos a mão na massa, alguns problemas podem podem ser mais complexos.\n",
        "\n",
        "Veja esse exemplo: \n",
        "\n",
        "In the first week that we really get our hands dirty, some issues can be more complex.\n",
        "\n",
        "See this example:"
      ],
      "metadata": {
        "id": "JPynfJFF_5vL"
      }
    },
    {
      "cell_type": "markdown",
      "source": [
        "🇧🇷**Bolos**\n",
        "\n",
        "Drikinha gosta de bolos de vários sabores. Uma vez por semana ela vai em uma padaria perto de casa e pede x pedaços de bolo de algum sabor, o pedaço de bolo tem o valor fixo de 3.25 reais, independentemente do sabor. Escreva um programa que recebe o sabor do bolo e a quantidade de pedaços que Drikinha irá comprar e retorne a frase do atendente: \"Foram 𝑥 pedaços de bolo de 𝑠, então fica 𝑧 reais\". Onde 𝑥 é a quantidade de pedaços, 𝑠 o sabor do bolo e 𝑧 o total da compra de Drikinha em reais. Imprima o valor da compra com apenas duas casas após a vírgula.\n",
        "\n",
        "\n",
        "**A Entrada consiste de:**\n",
        "\n",
        "Uma string e um número inteiro positivo, representando o sabor do bolo e quantidade de pedaços respectivamente.\n",
        "\n",
        "**A Saída deve apresentar:**\n",
        "\n",
        "Uma string, como especificado no enunciado.\n",
        "\n",
        "**Observações:**\n",
        "\n",
        "Não é necessário validar se os valores de entrada são do tipo definido.\n",
        "Se atente ao formato dos valores da saída especificados no enunciado.\n",
        "\n",
        "**Descrição dos Exemplos:**\n",
        "\n",
        "No primeiro exemplo, o sabor do bolo escolhido foi baunilha e a quantidade de pedaços é 5, dessa forma a saída é \"Foram 5 pedaços de bolo de baunilha, então fica 16.25 reais\".\n",
        "\n",
        "**Dica:**\n",
        "\n",
        "Para ler mais de um valor por linha use a função split(), como mostrado a seguir, para ler 2 ou mais valores em uma mesma linha:\n",
        "x, y, z = input().split()\n",
        "\n",
        "Para quem quiser se aprofundar no funcionamento da função split() consulte a documentação de Python 3.x, em particular procure pelos métodos da classe str. "
      ],
      "metadata": {
        "id": "UHLQB8MPAda7"
      }
    },
    {
      "cell_type": "markdown",
      "source": [
        "🇺🇸**Cakes**\n",
        "\n",
        "Drikinha likes cakes of different flavors. Once a week she goes to a bakery near her house and asks for x pieces of cake of a certain flavor, the piece of cake has a fixed price of 3.25 reais, regardless of the flavor. Write a program that receives the flavor of the cake and the number of pieces that Drikinha will buy and returns the attendant's sentence: \"There were 𝑥 pieces of cake from 𝑠, so there are 𝑧 reals\". Where 𝑥 is the number of pieces, 𝑠 the flavor of the cake and 𝑧 the total purchase of Drikinha in reais. Print the purchase amount with just two places after the decimal point.\n",
        "\n",
        "**Entry consists of:**\n",
        "\n",
        "A string and a positive integer, representing the cake flavor and number of pieces respectively.\n",
        "\n",
        "**The Output must show:**\n",
        "\n",
        "A string, as specified in the statement.\n",
        "\n",
        "**Comments:**\n",
        "\n",
        "It is not necessary to validate that the input values ​​are of the defined type. Pay attention to the format of the output values ​​specified in the statement.\n",
        "\n",
        "**Description of Examples:**\n",
        "\n",
        "In the first example, the flavor of the cake chosen was vanilla and the number of pieces is 5, so the output is \"There were 5 pieces of vanilla cake, so it's 16.25 reais\".\n",
        "\n",
        "**Tip:**\n",
        "\n",
        "To read more than one value per line use the split() function, as shown below, to read 2 or more values ​​in the same line: x, y, z = input().split()\n",
        "\n",
        "For those who want to go deeper into how the split() function works, consult the Python 3.x documentation, in particular look for the methods of the str class."
      ],
      "metadata": {
        "id": "I0SnpfYQA8n_"
      }
    },
    {
      "cell_type": "code",
      "source": [
        "entrada = input()\n",
        "x_s = (entrada.split(\" \"))\n",
        "z = (int(x_s[1])) * 3.25\n",
        "print (f'Foram {x_s[1]} pedaços de bolo de {x_s[0]}, então fica {z:.2f} reais')"
      ],
      "metadata": {
        "id": "YmnaHz87BPLv"
      },
      "execution_count": null,
      "outputs": []
    }
  ]
}